{
  "nbformat": 4,
  "nbformat_minor": 0,
  "metadata": {
    "colab": {
      "provenance": []
    },
    "kernelspec": {
      "name": "python3",
      "display_name": "Python 3"
    },
    "language_info": {
      "name": "python"
    }
  },
  "cells": [
    {
      "cell_type": "markdown",
      "source": [],
      "metadata": {
        "id": "PeWfY020u7Kq"
      }
    },
    {
      "cell_type": "code",
      "execution_count": 22,
      "metadata": {
        "id": "fuDhZW-8pjBS"
      },
      "outputs": [],
      "source": [
        "import pandas as pd"
      ]
    },
    {
      "cell_type": "code",
      "source": [
        "# Loading Data\n",
        "data = pd.read_csv('mystery_data.csv')"
      ],
      "metadata": {
        "id": "_vB9LXzjrwij"
      },
      "execution_count": 20,
      "outputs": []
    },
    {
      "cell_type": "code",
      "source": [
        "#assigning Name\n",
        "data.columns = [\"ID\", \"Math\", \"Gender\", \"StudyHours\", \"Science\"]\n"
      ],
      "metadata": {
        "id": "qT84yJHarwgm"
      },
      "execution_count": 23,
      "outputs": []
    },
    {
      "cell_type": "code",
      "source": [
        "#Printing starting Five rows\n",
        "\n",
        "print(data.head())"
      ],
      "metadata": {
        "colab": {
          "base_uri": "https://localhost:8080/"
        },
        "id": "ICqer3dWrwdN",
        "outputId": "f7b8c60a-dcdb-4152-80fa-30b79eef0a36"
      },
      "execution_count": 24,
      "outputs": [
        {
          "output_type": "stream",
          "name": "stdout",
          "text": [
            "    ID  Math Gender  StudyHours  Science\n",
            "0  102    90      M        10.3       97\n",
            "1  103    84      F         7.7       98\n",
            "2  104    52      M        11.6       98\n",
            "3  105    43      F         8.4       47\n",
            "4  106    40      M         8.8       60\n"
          ]
        }
      ]
    },
    {
      "cell_type": "code",
      "source": [
        "# Justification for each column name:\n",
        "# \"ID\"         - Unique increasing integers typical of identifiers.\n",
        "# \"Math\"       - Values in exam score range, likely Math scores.\n",
        "# \"Gender\"     - Contains 'M' and 'F', indicating Male/Female.\n",
        "# \"StudyHours\" - Decimal values, reasonable for hours spent studying.\n",
        "# \"Science\"    - Score-like values similar to Math, likely another subject."
      ],
      "metadata": {
        "id": "qWU8UgQ8rwbx"
      },
      "execution_count": 12,
      "outputs": []
    },
    {
      "cell_type": "code",
      "source": [
        "import pandas as pd\n",
        "\n",
        "df = pd.read_csv('mystery_data.csv', header=None)\n",
        "\n",
        "# This line selects only columns 0 through 4 from the DataFrame.\n",
        "df = df[[0, 1, 2, 3, 4]]\n",
        "#This line creates a new column called TotalScore.\n",
        "df[\"TotalScore\"] = df[1] + df[4]\n",
        "\n",
        "print(df)"
      ],
      "metadata": {
        "colab": {
          "base_uri": "https://localhost:8080/"
        },
        "id": "0tdjdT_FrwTR",
        "outputId": "3ac79ad6-5de8-46d1-817f-b5a3358e2141"
      },
      "execution_count": 26,
      "outputs": [
        {
          "output_type": "stream",
          "name": "stdout",
          "text": [
            "      0   1  2     3   4  TotalScore\n",
            "0   101  40  M   5.6  45          85\n",
            "1   102  90  M  10.3  97         187\n",
            "2   103  84  F   7.7  98         182\n",
            "3   104  52  M  11.6  98         150\n",
            "4   105  43  F   8.4  47          90\n",
            "..  ...  .. ..   ...  ..         ...\n",
            "95  196  42  M  10.2  61         103\n",
            "96  197  66  M  10.9  65         131\n",
            "97  198  68  F  10.6  58         126\n",
            "98  199  71  M   7.9  53         124\n",
            "99  200  89  M  10.1  90         179\n",
            "\n",
            "[100 rows x 6 columns]\n"
          ]
        }
      ]
    },
    {
      "cell_type": "code",
      "source": [],
      "metadata": {
        "colab": {
          "base_uri": "https://localhost:8080/",
          "height": 110
        },
        "id": "b1mD6sysrwR8",
        "outputId": "dbd3000f-54ab-44dc-c44d-00b30bcc139f"
      },
      "execution_count": 27,
      "outputs": [
        {
          "output_type": "error",
          "ename": "SyntaxError",
          "evalue": "invalid syntax (ipython-input-27-2861011532.py, line 1)",
          "traceback": [
            "\u001b[0;36m  File \u001b[0;32m\"/tmp/ipython-input-27-2861011532.py\"\u001b[0;36m, line \u001b[0;32m1\u001b[0m\n\u001b[0;31m    the university claims that, on avrg,students score 70 marks in maths. check whether students who\u001b[0m\n\u001b[0m        ^\u001b[0m\n\u001b[0;31mSyntaxError\u001b[0m\u001b[0;31m:\u001b[0m invalid syntax\n"
          ]
        }
      ]
    },
    {
      "cell_type": "code",
      "source": [],
      "metadata": {
        "id": "2su4ywI9rwNo"
      },
      "execution_count": 29,
      "outputs": []
    },
    {
      "cell_type": "code",
      "source": [],
      "metadata": {
        "id": "iUcyxMasrwMU"
      },
      "execution_count": null,
      "outputs": []
    },
    {
      "cell_type": "code",
      "source": [],
      "metadata": {
        "id": "X8EXop2RrwC7"
      },
      "execution_count": null,
      "outputs": []
    },
    {
      "cell_type": "code",
      "source": [],
      "metadata": {
        "id": "AYhVeW9Grvs-"
      },
      "execution_count": null,
      "outputs": []
    }
  ]
}